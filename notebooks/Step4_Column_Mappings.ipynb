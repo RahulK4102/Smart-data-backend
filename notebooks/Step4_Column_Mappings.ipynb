{
 "cells": [
  {
   "cell_type": "code",
   "execution_count": 2,
   "id": "e7b19ffb-38c3-4c03-9238-1fa77b2208d4",
   "metadata": {},
   "outputs": [],
   "source": [
    "import pandas as pd\n",
    "import numpy as np"
   ]
  },
  {
   "cell_type": "code",
   "execution_count": 2,
   "id": "65665eb0-ed96-41bc-9b19-53c71f359c95",
   "metadata": {},
   "outputs": [
    {
     "name": "stderr",
     "output_type": "stream",
     "text": [
      "C:\\ProgramData\\miniconda3\\envs\\env\\Lib\\site-packages\\transformers\\tokenization_utils_base.py:1601: FutureWarning: `clean_up_tokenization_spaces` was not set. It will be set to `True` by default. This behavior will be depracted in transformers v4.45, and will be then set to `False` by default. For more details check this issue: https://github.com/huggingface/transformers/issues/31884\n",
      "  warnings.warn(\n"
     ]
    }
   ],
   "source": [
    "# Load pre-trained sentence transformer model\n",
    "model = SentenceTransformer('paraphrase-MiniLM-L6-v2')"
   ]
  },
  {
   "cell_type": "code",
   "execution_count": 3,
   "id": "75ed4d29-f9ce-46d2-b097-722e92662563",
   "metadata": {},
   "outputs": [],
   "source": [
    "# Pre-defined terms based on context (Retail and Finance example, can be extended)\n",
    "retail_terms = [\"stock unit\", \"quantity sold\", \"price\", \"date\", \"invoice date\"]\n",
    "finance_terms = [\"profit\", \"loss\", \"income\", \"expense\", \"tax\"]\n",
    "employee_terms = [\"employee id\", \"salary\", \"hire date\", \"position\", \"performance\"]\n",
    "college_terms = [\"student id\", \"marks\", \"subject\", \"semester\", \"attendance\"]"
   ]
  },
  {
   "cell_type": "code",
   "execution_count": 4,
   "id": "2a1aa4ba-e41d-4d7b-b435-c48d1fc140fb",
   "metadata": {},
   "outputs": [],
   "source": [
    "# Context-based mappings\n",
    "context_mappings = {\n",
    "    \"Retail data\": retail_terms,\n",
    "    \"Finance data\": finance_terms,\n",
    "    \"Employee data\": employee_terms,\n",
    "    \"College data\": college_terms\n",
    "}"
   ]
  },
  {
   "cell_type": "code",
   "execution_count": 5,
   "id": "b6bb2638-a845-4c85-9489-ec578fd74a15",
   "metadata": {},
   "outputs": [],
   "source": [
    "def get_embeddings(terms):\n",
    "    terms = list(terms)  # Ensure terms is a list and not a Pandas Index\n",
    "    return model.encode(terms, convert_to_tensor=True) if terms else []"
   ]
  },
  {
   "cell_type": "code",
   "execution_count": 3,
   "id": "6d967da3-1549-4d85-9d26-5d21e2a62065",
   "metadata": {},
   "outputs": [],
   "source": [
    "dataset_path = r\"C:\\Users\\VANSH JK\\Desktop\\Temp\\Project\\project_root\\data\\Online Retail.xlsx\"\n",
    "df = pd.read_excel(dataset_path)"
   ]
  },
  {
   "cell_type": "code",
   "execution_count": 4,
   "id": "de086dc9-5268-4396-95b6-2ef2925f0148",
   "metadata": {},
   "outputs": [],
   "source": [
    "columns=df.columns\n",
    "column_types = df.dtypes\n",
    "\n",
    "output_path = r\"C:\\Users\\VANSH JK\\Desktop\\Temp\\Project\\project_root\\outputs\\business_insight.txt\"\n",
    "with open(output_path, \"r\") as file:\n",
    "    context = file.read()"
   ]
  },
  {
   "cell_type": "code",
   "execution_count": 8,
   "id": "20bacd38-bfb7-4ac7-afd4-c8484ab9796a",
   "metadata": {},
   "outputs": [],
   "source": [
    "# Get embeddings for the context's relevant terms\n",
    "contextual_terms = context_mappings.get(context, [])\n",
    "contextual_embeddings = get_embeddings(contextual_terms)"
   ]
  },
  {
   "cell_type": "code",
   "execution_count": 9,
   "id": "a743f25b-921e-439e-8acf-316a598b7cc3",
   "metadata": {},
   "outputs": [],
   "source": [
    "# Get embeddings for the dataset's column names\n",
    "column_embeddings = get_embeddings(columns)"
   ]
  },
  {
   "cell_type": "code",
   "execution_count": 10,
   "id": "d4f66b4e-0cdb-4a06-abba-55f7a53c74d1",
   "metadata": {},
   "outputs": [],
   "source": [
    "def match_columns_to_context_with_types(columns, column_types, column_embeddings, contextual_terms, contextual_embeddings):\n",
    "    matched_columns = {}\n",
    "    \n",
    "    # Predefined mappings for data types and business insights\n",
    "    type_mappings = {\n",
    "        \"float64\": [\"price\", \"quantity\", \"revenue\", \"profit\"],\n",
    "        \"int64\": [\"quantity\", \"stock\", \"units\", \"invoice no\"],\n",
    "        \"datetime64[ns]\": [\"date\", \"invoice date\", \"order date\"],\n",
    "        \"object\": [\"description\", \"customer\", \"category\", \"invoice no\"]\n",
    "    }\n",
    "    \n",
    "    for i, column in enumerate(columns):\n",
    "        col_type = column_types[i]  # Get the data type of the column\n",
    "        \n",
    "        # Compute cosine similarity between column embedding and context embeddings\n",
    "        similarities = util.pytorch_cos_sim(column_embeddings[i], contextual_embeddings)\n",
    "        best_match_idx = np.argmax(similarities)\n",
    "        best_match_term = contextual_terms[best_match_idx]\n",
    "        \n",
    "        # Ensure the column's data type aligns with the matched term's expected type\n",
    "        if col_type in type_mappings:\n",
    "            if best_match_term in type_mappings[col_type]:\n",
    "                matched_columns[column] = best_match_term\n",
    "        \n",
    "    return matched_columns"
   ]
  },
  {
   "cell_type": "code",
   "execution_count": 13,
   "id": "12aac85f-3ddb-4175-a8a6-273088c11787",
   "metadata": {},
   "outputs": [
    {
     "name": "stdout",
     "output_type": "stream",
     "text": [
      "Matched columns: {}\n"
     ]
    },
    {
     "name": "stderr",
     "output_type": "stream",
     "text": [
      "C:\\Users\\VANSH JK\\AppData\\Local\\Temp\\ipykernel_24160\\2876375588.py:13: FutureWarning: Series.__getitem__ treating keys as positions is deprecated. In a future version, integer keys will always be treated as labels (consistent with DataFrame behavior). To access a value by position, use `ser.iloc[pos]`\n",
      "  col_type = column_types[i]  # Get the data type of the column\n"
     ]
    }
   ],
   "source": [
    "matched_columns = match_columns_to_context_with_types(columns, column_types, column_embeddings, contextual_terms, contextual_embeddings)\n",
    "print(\"Matched columns:\", matched_columns)"
   ]
  },
  {
   "cell_type": "code",
   "execution_count": 5,
   "id": "7955d6a3",
   "metadata": {},
   "outputs": [
    {
     "name": "stderr",
     "output_type": "stream",
     "text": [
      "C:\\ProgramData\\miniconda3\\envs\\env\\Lib\\site-packages\\sentence_transformers\\cross_encoder\\CrossEncoder.py:13: TqdmExperimentalWarning: Using `tqdm.autonotebook.tqdm` in notebook mode. Use `tqdm.tqdm` instead to force console mode (e.g. in jupyter console)\n",
      "  from tqdm.autonotebook import tqdm, trange\n"
     ]
    },
    {
     "name": "stdout",
     "output_type": "stream",
     "text": [
      "WARNING:tensorflow:From C:\\ProgramData\\miniconda3\\envs\\env\\Lib\\site-packages\\tf_keras\\src\\losses.py:2976: The name tf.losses.sparse_softmax_cross_entropy is deprecated. Please use tf.compat.v1.losses.sparse_softmax_cross_entropy instead.\n",
      "\n"
     ]
    }
   ],
   "source": [
    "from sentence_transformers import SentenceTransformer, util\n",
    "from fuzzywuzzy import fuzz\n",
    "import pandas as pd\n",
    "import numpy as np"
   ]
  },
  {
   "cell_type": "code",
   "execution_count": 6,
   "id": "fbd891c4",
   "metadata": {},
   "outputs": [
    {
     "data": {
      "application/vnd.jupyter.widget-view+json": {
       "model_id": "fdae98ee440445c98d2a82b7bfaad504",
       "version_major": 2,
       "version_minor": 0
      },
      "text/plain": [
       "modules.json:   0%|          | 0.00/229 [00:00<?, ?B/s]"
      ]
     },
     "metadata": {},
     "output_type": "display_data"
    },
    {
     "name": "stderr",
     "output_type": "stream",
     "text": [
      "C:\\ProgramData\\miniconda3\\envs\\env\\Lib\\site-packages\\huggingface_hub\\file_download.py:159: UserWarning: `huggingface_hub` cache-system uses symlinks by default to efficiently store duplicated files but your machine does not support them in C:\\Users\\VANSH JK\\.cache\\huggingface\\hub\\models--sentence-transformers--paraphrase-MiniLM-L6-v2. Caching files will still work but in a degraded version that might require more space on your disk. This warning can be disabled by setting the `HF_HUB_DISABLE_SYMLINKS_WARNING` environment variable. For more details, see https://huggingface.co/docs/huggingface_hub/how-to-cache#limitations.\n",
      "To support symlinks on Windows, you either need to activate Developer Mode or to run Python as an administrator. In order to see activate developer mode, see this article: https://docs.microsoft.com/en-us/windows/apps/get-started/enable-your-device-for-development\n",
      "  warnings.warn(message)\n"
     ]
    },
    {
     "data": {
      "application/vnd.jupyter.widget-view+json": {
       "model_id": "75bc8d3d43b940588a0a7c1a936ccb37",
       "version_major": 2,
       "version_minor": 0
      },
      "text/plain": [
       "config_sentence_transformers.json:   0%|          | 0.00/122 [00:00<?, ?B/s]"
      ]
     },
     "metadata": {},
     "output_type": "display_data"
    },
    {
     "data": {
      "application/vnd.jupyter.widget-view+json": {
       "model_id": "473b63fd27f54f9183ddfa7e29af4041",
       "version_major": 2,
       "version_minor": 0
      },
      "text/plain": [
       "README.md:   0%|          | 0.00/3.73k [00:00<?, ?B/s]"
      ]
     },
     "metadata": {},
     "output_type": "display_data"
    },
    {
     "data": {
      "application/vnd.jupyter.widget-view+json": {
       "model_id": "371f5237a8e444f3a75012c5cc32fc2f",
       "version_major": 2,
       "version_minor": 0
      },
      "text/plain": [
       "sentence_bert_config.json:   0%|          | 0.00/53.0 [00:00<?, ?B/s]"
      ]
     },
     "metadata": {},
     "output_type": "display_data"
    },
    {
     "data": {
      "application/vnd.jupyter.widget-view+json": {
       "model_id": "b47d80a2f7eb4c76929185766c1954f3",
       "version_major": 2,
       "version_minor": 0
      },
      "text/plain": [
       "config.json:   0%|          | 0.00/629 [00:00<?, ?B/s]"
      ]
     },
     "metadata": {},
     "output_type": "display_data"
    },
    {
     "data": {
      "application/vnd.jupyter.widget-view+json": {
       "model_id": "85408c13a32d460facf74c7c453347d1",
       "version_major": 2,
       "version_minor": 0
      },
      "text/plain": [
       "model.safetensors:   0%|          | 0.00/90.9M [00:00<?, ?B/s]"
      ]
     },
     "metadata": {},
     "output_type": "display_data"
    },
    {
     "data": {
      "application/vnd.jupyter.widget-view+json": {
       "model_id": "a564708d9b224e6588e165c67899a9b3",
       "version_major": 2,
       "version_minor": 0
      },
      "text/plain": [
       "tokenizer_config.json:   0%|          | 0.00/314 [00:00<?, ?B/s]"
      ]
     },
     "metadata": {},
     "output_type": "display_data"
    },
    {
     "data": {
      "application/vnd.jupyter.widget-view+json": {
       "model_id": "1be6216a9cf041b79eef128dcd62e372",
       "version_major": 2,
       "version_minor": 0
      },
      "text/plain": [
       "vocab.txt:   0%|          | 0.00/232k [00:00<?, ?B/s]"
      ]
     },
     "metadata": {},
     "output_type": "display_data"
    },
    {
     "data": {
      "application/vnd.jupyter.widget-view+json": {
       "model_id": "84118be5625147eb931e7669f0a2f5c7",
       "version_major": 2,
       "version_minor": 0
      },
      "text/plain": [
       "tokenizer.json:   0%|          | 0.00/466k [00:00<?, ?B/s]"
      ]
     },
     "metadata": {},
     "output_type": "display_data"
    },
    {
     "data": {
      "application/vnd.jupyter.widget-view+json": {
       "model_id": "db951aff6ef54cdbbc2ba435f683f3db",
       "version_major": 2,
       "version_minor": 0
      },
      "text/plain": [
       "special_tokens_map.json:   0%|          | 0.00/112 [00:00<?, ?B/s]"
      ]
     },
     "metadata": {},
     "output_type": "display_data"
    },
    {
     "name": "stderr",
     "output_type": "stream",
     "text": [
      "C:\\ProgramData\\miniconda3\\envs\\env\\Lib\\site-packages\\transformers\\tokenization_utils_base.py:1601: FutureWarning: `clean_up_tokenization_spaces` was not set. It will be set to `True` by default. This behavior will be depracted in transformers v4.45, and will be then set to `False` by default. For more details check this issue: https://github.com/huggingface/transformers/issues/31884\n",
      "  warnings.warn(\n"
     ]
    },
    {
     "data": {
      "application/vnd.jupyter.widget-view+json": {
       "model_id": "d6513cadec7a4e288952b69289048050",
       "version_major": 2,
       "version_minor": 0
      },
      "text/plain": [
       "1_Pooling/config.json:   0%|          | 0.00/190 [00:00<?, ?B/s]"
      ]
     },
     "metadata": {},
     "output_type": "display_data"
    }
   ],
   "source": [
    "model = SentenceTransformer('paraphrase-MiniLM-L6-v2')"
   ]
  },
  {
   "cell_type": "code",
   "execution_count": 39,
   "id": "baee8748",
   "metadata": {},
   "outputs": [],
   "source": [
    "# Function to generate embeddings for a list of terms (column names or context terms)\n",
    "def get_embeddings(terms):\n",
    "    terms = list(terms)  # Ensure terms is a list and not a Pandas Index\n",
    "    return model.encode(terms, convert_to_tensor=True) if terms else []\n",
    "\n",
    "# Function for fuzzy string matching\n",
    "def fuzzy_match(term, contextual_terms):\n",
    "    max_ratio = 0\n",
    "    best_match = None\n",
    "    for context_term in contextual_terms:\n",
    "        ratio = fuzz.ratio(term.lower(), context_term.lower())\n",
    "        if ratio > max_ratio:\n",
    "            max_ratio = ratio\n",
    "            best_match = context_term\n",
    "    print(\"fuzzy ration \",max_ratio,\"Fuzzy output\",best_match if max_ratio > 70 else None)\n",
    "    return best_match if max_ratio > 70 else None  # Set a threshold for acceptance\n",
    "\n",
    "# Function to dynamically generate type mappings based on context\n",
    "def generate_type_mappings(context):\n",
    "    if \"retail\" in context.lower():\n",
    "        return {\n",
    "            \"float64\": [\"price\", \"quantity\", \"revenue\", \"profit\",\"invoice no\"],\n",
    "            \"int64\": [\"quantity\", \"stock\", \"units\", \"invoice no\"],\n",
    "            \"datetime64[ns]\": [\"date\", \"invoice date\", \"order date\"],\n",
    "            \"object\": [\"description\", \"customer\", \"category\", \"invoice no\"]\n",
    "        }\n",
    "    elif \"finance\" in context.lower():\n",
    "        return {\n",
    "            \"float64\": [\"revenue\", \"profit\", \"expense\", \"balance\"],\n",
    "            \"int64\": [\"account no\", \"transaction id\"],\n",
    "            \"datetime64[ns]\": [\"transaction date\", \"closing date\"],\n",
    "            \"object\": [\"account holder\", \"currency\", \"country\"]\n",
    "        }\n",
    "    elif \"healthcare\" in context.lower():\n",
    "        return {\n",
    "            \"float64\": [\"blood pressure\", \"cholesterol\", \"weight\", \"height\"],\n",
    "            \"int64\": [\"patient id\", \"age\"],\n",
    "            \"datetime64[ns]\": [\"admission date\", \"discharge date\", \"birth date\"],\n",
    "            \"object\": [\"diagnosis\", \"medication\", \"doctor\", \"hospital\"]\n",
    "        }\n",
    "    else:\n",
    "        return {\n",
    "            \"float64\": [\"value\", \"amount\"],\n",
    "            \"int64\": [\"id\", \"count\"],\n",
    "            \"datetime64[ns]\": [\"date\"],\n",
    "            \"object\": [\"description\", \"name\", \"category\"]\n",
    "        }\n",
    "\n",
    "import re\n",
    "\n",
    "# Function to check if a column name looks like an ID\n",
    "def is_identifier_column(column_name):\n",
    "    patterns = [\"no\", \"id\", \"code\"]\n",
    "    return any(re.search(pattern, column_name.lower()) for pattern in patterns)\n",
    "\n",
    "# Updated matching function with thresholds and ID pattern detection\n",
    "def match_columns_to_context_with_patterns(columns, column_types, column_embeddings, contextual_terms, contextual_embeddings, context, similarity_threshold=0.7):\n",
    "    matched_columns = {}\n",
    "    \n",
    "    # Dynamically generate type mappings based on the provided context\n",
    "    type_mappings = generate_type_mappings(context)\n",
    "    \n",
    "    # Loop through each column and try to find a match\n",
    "    for i, column in enumerate(columns):\n",
    "        col_type = column_types[i]  # Get the data type of the column\n",
    "\n",
    "        # Compute cosine similarity between column embedding and context embeddings\n",
    "        if contextual_embeddings.numel() > 0:\n",
    "            similarities = util.pytorch_cos_sim(column_embeddings[i], contextual_embeddings)\n",
    "            best_match_idx = np.argmax(similarities)\n",
    "            best_similarity = similarities[0][best_match_idx].item()\n",
    "            best_match_term = contextual_terms[best_match_idx]\n",
    "        else:\n",
    "            best_match_term = None\n",
    "            best_similarity = 0\n",
    "\n",
    "        # Check if the similarity is above the threshold\n",
    "        if best_similarity >= similarity_threshold and col_type in type_mappings:\n",
    "            if best_match_term in type_mappings[col_type]:\n",
    "                matched_columns[column] = best_match_term\n",
    "            else:\n",
    "                # Fallback to fuzzy matching\n",
    "                fuzzy_match_term = fuzzy_match(column, contextual_terms)\n",
    "                if fuzzy_match_term:\n",
    "                    matched_columns[column] = fuzzy_match_term\n",
    "        else:\n",
    "            # Fallback to pattern-based matching for identifiers\n",
    "            if is_identifier_column(column):\n",
    "                matched_columns[column] = 'ID'  # Assign to 'ID' if it's an identifier-like column\n",
    "            else:\n",
    "                # Fallback to type-based matching if no good match is found\n",
    "                for context_term in contextual_terms:\n",
    "                    if col_type in type_mappings and context_term in type_mappings[col_type]:\n",
    "                        matched_columns[column] = context_term\n",
    "                        break\n",
    "\n",
    "    return matched_columns\n"
   ]
  },
  {
   "cell_type": "code",
   "execution_count": 40,
   "id": "6903c7fc",
   "metadata": {},
   "outputs": [
    {
     "name": "stdout",
     "output_type": "stream",
     "text": [
      "Processing column: InvoiceNo, Data type: object\n",
      "Best match for InvoiceNo: invoice no with similarity 0.8382790088653564\n",
      "fuzzy ration  95 Fuzzy output invoice no\n",
      "Fuzzy matched InvoiceNo to invoice no\n",
      "Processing column: StockCode, Data type: object\n",
      "Best match for StockCode: item code with similarity 0.30027419328689575\n",
      "fuzzy ration  56 Fuzzy output None\n",
      "No good match for StockCode, falling back to type-based matching.\n",
      "Fallback match for StockCode: description (generic term)\n",
      "Processing column: Description, Data type: object\n",
      "Best match for Description: item code with similarity 0.31780773401260376\n",
      "fuzzy ration  53 Fuzzy output None\n",
      "No good match for Description, falling back to type-based matching.\n",
      "Fallback match for Description: description (generic term)\n",
      "Processing column: Quantity, Data type: int64\n",
      "Best match for Quantity: quantity sold with similarity 0.7244747281074524\n",
      "fuzzy ration  76 Fuzzy output quantity sold\n",
      "Fuzzy matched Quantity to quantity sold\n",
      "Processing column: InvoiceDate, Data type: datetime64[ns]\n",
      "Best match for InvoiceDate: invoice date with similarity 0.9092086553573608\n",
      "fuzzy ration  96 Fuzzy output invoice date\n",
      "Fuzzy matched InvoiceDate to invoice date\n",
      "Processing column: UnitPrice, Data type: float64\n",
      "Best match for UnitPrice: invoice no with similarity 0.4296664893627167\n",
      "fuzzy ration  71 Fuzzy output price\n",
      "Fuzzy matched UnitPrice to price\n",
      "Processing column: CustomerID, Data type: float64\n",
      "Best match for CustomerID: customer with similarity 0.8206790089607239\n",
      "fuzzy ration  95 Fuzzy output customer ID\n",
      "Fuzzy matched CustomerID to customer ID\n",
      "Processing column: Country, Data type: object\n",
      "Best match for Country: Location with similarity 0.4108433723449707\n",
      "fuzzy ration  53 Fuzzy output None\n",
      "No good match for Country, falling back to type-based matching.\n",
      "Fallback match for Country: description (generic term)\n",
      "Matched columns: {'InvoiceNo': 'invoice no', 'StockCode': 'description', 'Description': 'description', 'Quantity': 'quantity sold', 'InvoiceDate': 'invoice date', 'UnitPrice': 'price', 'CustomerID': 'customer ID', 'Country': 'description'}\n"
     ]
    },
    {
     "name": "stderr",
     "output_type": "stream",
     "text": [
      "C:\\Users\\VANSH JK\\AppData\\Local\\Temp\\ipykernel_45844\\4234003687.py:8: FutureWarning: Series.__getitem__ treating keys as positions is deprecated. In a future version, integer keys will always be treated as labels (consistent with DataFrame behavior). To access a value by position, use `ser.iloc[pos]`\n",
      "  col_type = column_types[i]\n"
     ]
    }
   ],
   "source": [
    "# Contextual terms will vary based on the business insight context (Retail, Financial, etc.)\n",
    "contextual_terms = [\"invoice date\", \"item code\", \"quantity sold\", \"price\", \"date\", \"customer\",\"customer ID\",\"item ID\",\"Location\", \"profit\", \"order date\",\"invoice no\"]\n",
    "\n",
    "# Get embeddings for the contextual terms\n",
    "contextual_embeddings = get_embeddings(contextual_terms)\n",
    "\n",
    "# Get embeddings for the dataset's column names\n",
    "column_embeddings = get_embeddings(columns)\n",
    "\n",
    "# Match columns to the business context using both names and types\n",
    "matched_columns = match_columns_to_context_with_types(columns, column_types, column_embeddings, contextual_terms, contextual_embeddings, context)\n",
    "\n",
    "# Print or use the matched columns\n",
    "print(\"Matched columns:\", matched_columns)"
   ]
  },
  {
   "cell_type": "code",
   "execution_count": 33,
   "id": "cb2185b3",
   "metadata": {},
   "outputs": [
    {
     "data": {
      "text/html": [
       "<div>\n",
       "<style scoped>\n",
       "    .dataframe tbody tr th:only-of-type {\n",
       "        vertical-align: middle;\n",
       "    }\n",
       "\n",
       "    .dataframe tbody tr th {\n",
       "        vertical-align: top;\n",
       "    }\n",
       "\n",
       "    .dataframe thead th {\n",
       "        text-align: right;\n",
       "    }\n",
       "</style>\n",
       "<table border=\"1\" class=\"dataframe\">\n",
       "  <thead>\n",
       "    <tr style=\"text-align: right;\">\n",
       "      <th></th>\n",
       "      <th>InvoiceNo</th>\n",
       "      <th>StockCode</th>\n",
       "      <th>Description</th>\n",
       "      <th>Quantity</th>\n",
       "      <th>InvoiceDate</th>\n",
       "      <th>UnitPrice</th>\n",
       "      <th>CustomerID</th>\n",
       "      <th>Country</th>\n",
       "    </tr>\n",
       "  </thead>\n",
       "  <tbody>\n",
       "    <tr>\n",
       "      <th>0</th>\n",
       "      <td>536365</td>\n",
       "      <td>85123A</td>\n",
       "      <td>WHITE HANGING HEART T-LIGHT HOLDER</td>\n",
       "      <td>6</td>\n",
       "      <td>2010-12-01 08:26:00</td>\n",
       "      <td>2.55</td>\n",
       "      <td>17850.0</td>\n",
       "      <td>United Kingdom</td>\n",
       "    </tr>\n",
       "    <tr>\n",
       "      <th>1</th>\n",
       "      <td>536365</td>\n",
       "      <td>71053</td>\n",
       "      <td>WHITE METAL LANTERN</td>\n",
       "      <td>6</td>\n",
       "      <td>2010-12-01 08:26:00</td>\n",
       "      <td>3.39</td>\n",
       "      <td>17850.0</td>\n",
       "      <td>United Kingdom</td>\n",
       "    </tr>\n",
       "    <tr>\n",
       "      <th>2</th>\n",
       "      <td>536365</td>\n",
       "      <td>84406B</td>\n",
       "      <td>CREAM CUPID HEARTS COAT HANGER</td>\n",
       "      <td>8</td>\n",
       "      <td>2010-12-01 08:26:00</td>\n",
       "      <td>2.75</td>\n",
       "      <td>17850.0</td>\n",
       "      <td>United Kingdom</td>\n",
       "    </tr>\n",
       "    <tr>\n",
       "      <th>3</th>\n",
       "      <td>536365</td>\n",
       "      <td>84029G</td>\n",
       "      <td>KNITTED UNION FLAG HOT WATER BOTTLE</td>\n",
       "      <td>6</td>\n",
       "      <td>2010-12-01 08:26:00</td>\n",
       "      <td>3.39</td>\n",
       "      <td>17850.0</td>\n",
       "      <td>United Kingdom</td>\n",
       "    </tr>\n",
       "    <tr>\n",
       "      <th>4</th>\n",
       "      <td>536365</td>\n",
       "      <td>84029E</td>\n",
       "      <td>RED WOOLLY HOTTIE WHITE HEART.</td>\n",
       "      <td>6</td>\n",
       "      <td>2010-12-01 08:26:00</td>\n",
       "      <td>3.39</td>\n",
       "      <td>17850.0</td>\n",
       "      <td>United Kingdom</td>\n",
       "    </tr>\n",
       "    <tr>\n",
       "      <th>...</th>\n",
       "      <td>...</td>\n",
       "      <td>...</td>\n",
       "      <td>...</td>\n",
       "      <td>...</td>\n",
       "      <td>...</td>\n",
       "      <td>...</td>\n",
       "      <td>...</td>\n",
       "      <td>...</td>\n",
       "    </tr>\n",
       "    <tr>\n",
       "      <th>541904</th>\n",
       "      <td>581587</td>\n",
       "      <td>22613</td>\n",
       "      <td>PACK OF 20 SPACEBOY NAPKINS</td>\n",
       "      <td>12</td>\n",
       "      <td>2011-12-09 12:50:00</td>\n",
       "      <td>0.85</td>\n",
       "      <td>12680.0</td>\n",
       "      <td>France</td>\n",
       "    </tr>\n",
       "    <tr>\n",
       "      <th>541905</th>\n",
       "      <td>581587</td>\n",
       "      <td>22899</td>\n",
       "      <td>CHILDREN'S APRON DOLLY GIRL</td>\n",
       "      <td>6</td>\n",
       "      <td>2011-12-09 12:50:00</td>\n",
       "      <td>2.10</td>\n",
       "      <td>12680.0</td>\n",
       "      <td>France</td>\n",
       "    </tr>\n",
       "    <tr>\n",
       "      <th>541906</th>\n",
       "      <td>581587</td>\n",
       "      <td>23254</td>\n",
       "      <td>CHILDRENS CUTLERY DOLLY GIRL</td>\n",
       "      <td>4</td>\n",
       "      <td>2011-12-09 12:50:00</td>\n",
       "      <td>4.15</td>\n",
       "      <td>12680.0</td>\n",
       "      <td>France</td>\n",
       "    </tr>\n",
       "    <tr>\n",
       "      <th>541907</th>\n",
       "      <td>581587</td>\n",
       "      <td>23255</td>\n",
       "      <td>CHILDRENS CUTLERY CIRCUS PARADE</td>\n",
       "      <td>4</td>\n",
       "      <td>2011-12-09 12:50:00</td>\n",
       "      <td>4.15</td>\n",
       "      <td>12680.0</td>\n",
       "      <td>France</td>\n",
       "    </tr>\n",
       "    <tr>\n",
       "      <th>541908</th>\n",
       "      <td>581587</td>\n",
       "      <td>22138</td>\n",
       "      <td>BAKING SET 9 PIECE RETROSPOT</td>\n",
       "      <td>3</td>\n",
       "      <td>2011-12-09 12:50:00</td>\n",
       "      <td>4.95</td>\n",
       "      <td>12680.0</td>\n",
       "      <td>France</td>\n",
       "    </tr>\n",
       "  </tbody>\n",
       "</table>\n",
       "<p>541909 rows × 8 columns</p>\n",
       "</div>"
      ],
      "text/plain": [
       "       InvoiceNo StockCode                          Description  Quantity  \\\n",
       "0         536365    85123A   WHITE HANGING HEART T-LIGHT HOLDER         6   \n",
       "1         536365     71053                  WHITE METAL LANTERN         6   \n",
       "2         536365    84406B       CREAM CUPID HEARTS COAT HANGER         8   \n",
       "3         536365    84029G  KNITTED UNION FLAG HOT WATER BOTTLE         6   \n",
       "4         536365    84029E       RED WOOLLY HOTTIE WHITE HEART.         6   \n",
       "...          ...       ...                                  ...       ...   \n",
       "541904    581587     22613          PACK OF 20 SPACEBOY NAPKINS        12   \n",
       "541905    581587     22899         CHILDREN'S APRON DOLLY GIRL          6   \n",
       "541906    581587     23254        CHILDRENS CUTLERY DOLLY GIRL          4   \n",
       "541907    581587     23255      CHILDRENS CUTLERY CIRCUS PARADE         4   \n",
       "541908    581587     22138        BAKING SET 9 PIECE RETROSPOT          3   \n",
       "\n",
       "               InvoiceDate  UnitPrice  CustomerID         Country  \n",
       "0      2010-12-01 08:26:00       2.55     17850.0  United Kingdom  \n",
       "1      2010-12-01 08:26:00       3.39     17850.0  United Kingdom  \n",
       "2      2010-12-01 08:26:00       2.75     17850.0  United Kingdom  \n",
       "3      2010-12-01 08:26:00       3.39     17850.0  United Kingdom  \n",
       "4      2010-12-01 08:26:00       3.39     17850.0  United Kingdom  \n",
       "...                    ...        ...         ...             ...  \n",
       "541904 2011-12-09 12:50:00       0.85     12680.0          France  \n",
       "541905 2011-12-09 12:50:00       2.10     12680.0          France  \n",
       "541906 2011-12-09 12:50:00       4.15     12680.0          France  \n",
       "541907 2011-12-09 12:50:00       4.15     12680.0          France  \n",
       "541908 2011-12-09 12:50:00       4.95     12680.0          France  \n",
       "\n",
       "[541909 rows x 8 columns]"
      ]
     },
     "execution_count": 33,
     "metadata": {},
     "output_type": "execute_result"
    }
   ],
   "source": [
    "df"
   ]
  },
  {
   "cell_type": "code",
   "execution_count": null,
   "id": "89bcd136",
   "metadata": {},
   "outputs": [],
   "source": []
  }
 ],
 "metadata": {
  "kernelspec": {
   "display_name": "Python 3 (ipykernel)",
   "language": "python",
   "name": "python3"
  },
  "language_info": {
   "codemirror_mode": {
    "name": "ipython",
    "version": 3
   },
   "file_extension": ".py",
   "mimetype": "text/x-python",
   "name": "python",
   "nbconvert_exporter": "python",
   "pygments_lexer": "ipython3",
   "version": "3.12.2"
  }
 },
 "nbformat": 4,
 "nbformat_minor": 5
}
