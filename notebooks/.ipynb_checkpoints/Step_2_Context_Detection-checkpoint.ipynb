{
 "cells": [
  {
   "cell_type": "code",
   "execution_count": null,
   "id": "7025c5f0-6a73-490d-8eae-15b049d459bf",
   "metadata": {},
   "outputs": [],
   "source": [
    "import numpy as np\n",
    "import pandas as pd\n",
    "from utils.context_utils import detect_context_with_clustering\n",
    "import os\n",
    "\n",
    "# Define the data and output directories\n",
    "data_dir = r\"E:\\BE Project\\Backend\\project_root\\data\"\n",
    "output_dir = r\"E:\\BE Project\\Backend\\project_root\\outputs\"\n",
    "dataset_path = os.path.join(data_dir, \"Online Retail.xlsx\")\n",
    "report_path = os.path.join(output_dir, \"dataset_context_report.txt\")\n",
    "\n",
    "# Load Data\n",
    "df = pd.read_excel(dataset_path)\n",
    "\n",
    "detect_context_with_clustering(df, report_path)"
   ]
  }
 ],
 "metadata": {
  "kernelspec": {
   "display_name": "Python 3 (ipykernel)",
   "language": "python",
   "name": "python3"
  },
  "language_info": {
   "codemirror_mode": {
    "name": "ipython",
    "version": 3
   },
   "file_extension": ".py",
   "mimetype": "text/x-python",
   "name": "python",
   "nbconvert_exporter": "python",
   "pygments_lexer": "ipython3",
   "version": "3.13.0"
  }
 },
 "nbformat": 4,
 "nbformat_minor": 5
}
