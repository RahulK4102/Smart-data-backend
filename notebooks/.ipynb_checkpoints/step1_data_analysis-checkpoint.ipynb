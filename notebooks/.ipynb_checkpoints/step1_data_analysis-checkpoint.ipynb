{
 "cells": [
  {
   "cell_type": "code",
   "execution_count": null,
   "id": "7e88d0ec-66a7-4fd8-b4ae-bdbdb21e60e1",
   "metadata": {},
   "outputs": [],
   "source": [
    "import os\n",
    "import pandas as pd\n",
    "\n",
    "from utils.data_utils import analyze_dataset\n",
    "\n",
    "data_dir = r\"E:\\BE Project\\Backend\\project_root\\data\"\n",
    "output_dir = r\"E:\\BE Project\\Backend\\project_root\\outputs\"\n",
    "dataset_path = os.path.join(data_dir, \"Online Retail.xlsx\")\n",
    "\n",
    "if not os.path.exists(dataset_path):\n",
    "    print(\"Please download your dataset and place it in the /data/ directory.\")\n",
    "else:\n",
    "    df = analyze_dataset(dataset_path, output_dir)\n",
    "\n"
   ]
  }
 ],
 "metadata": {
  "kernelspec": {
   "display_name": "Python 3 (ipykernel)",
   "language": "python",
   "name": "python3"
  },
  "language_info": {
   "codemirror_mode": {
    "name": "ipython",
    "version": 3
   },
   "file_extension": ".py",
   "mimetype": "text/x-python",
   "name": "python",
   "nbconvert_exporter": "python",
   "pygments_lexer": "ipython3",
   "version": "3.13.0"
  }
 },
 "nbformat": 4,
 "nbformat_minor": 5
}
