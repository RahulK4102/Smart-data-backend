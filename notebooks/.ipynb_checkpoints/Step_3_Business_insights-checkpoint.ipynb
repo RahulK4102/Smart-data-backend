{
 "cells": [
  {
   "cell_type": "code",
   "execution_count": null,
   "id": "824aca6c-3d2a-4bf7-932a-da2b92a4273d",
   "metadata": {},
   "outputs": [],
   "source": [
    "import torch\n",
    "from transformers import pipeline\n",
    "import pandas as pd\n",
    "\n",
    "def extract_business_insight(df, user_description=None):\n",
    "    classifier = pipeline(\"zero-shot-classification\", model=\"facebook/bart-large-mnli\")\n",
    "    \n",
    "    candidate_labels = [\"Financial data\", \"Retail data\", \"Stock data\", \"Inventory data\", \"Healthcare data\", \"Marketing data\"]\n",
    "    \n",
    "    columns_text = \" \".join(df.columns)\n",
    "    model_prediction = classifier(columns_text, candidate_labels)\n",
    "    \n",
    "    if user_description:\n",
    "        description_prediction = classifier(user_description, candidate_labels)\n",
    "        \n",
    "        combined_scores = {}\n",
    "        \n",
    "        for label in candidate_labels:\n",
    "            combined_scores[label] = (0.6 * description_prediction[\"scores\"][description_prediction[\"labels\"].index(label)] +\n",
    "                                      0.4 * model_prediction[\"scores\"][model_prediction[\"labels\"].index(label)])\n",
    "        \n",
    "        final_prediction = max(combined_scores, key=combined_scores.get)\n",
    "    else:\n",
    "        \n",
    "        final_prediction = model_prediction[\"labels\"][0]\n",
    "    \n",
    "    \n",
    "    return final_prediction\n",
    "\n",
    "dataset_path = r\"E:\\BE Project\\Backend\\project_root\\data\\Online Retail.xlsx\"\n",
    "df = pd.read_excel(dataset_path)\n",
    "\n",
    "user_description = input(\"User Description\")\n",
    "\n",
    "business_insight = extract_business_insight(df, user_description)\n",
    "print(\"Final business insight prediction:\", business_insight)\n",
    "\n",
    "output_path =  r\"E:/BE Project/Backend/project_root/outputs/Business_Insight.txt\"\n",
    "with open(output_path, \"w\") as file:\n",
    "    file.write(business_insight)\n",
    "\n"
   ]
  }
 ],
 "metadata": {
  "kernelspec": {
   "display_name": "Python 3 (ipykernel)",
   "language": "python",
   "name": "python3"
  },
  "language_info": {
   "codemirror_mode": {
    "name": "ipython",
    "version": 3
   },
   "file_extension": ".py",
   "mimetype": "text/x-python",
   "name": "python",
   "nbconvert_exporter": "python",
   "pygments_lexer": "ipython3",
   "version": "3.12.7"
  }
 },
 "nbformat": 4,
 "nbformat_minor": 5
}
